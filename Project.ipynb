{
 "cells": [
  {
   "cell_type": "code",
   "execution_count": 1,
   "metadata": {},
   "outputs": [],
   "source": [
    "from itertools import groupby\n",
    "import pandas as pd"
   ]
  },
  {
   "cell_type": "markdown",
   "metadata": {},
   "source": [
    "## Алгоритм Кнута-Мориса-Прата"
   ]
  },
  {
   "cell_type": "markdown",
   "metadata": {},
   "source": [
    "### 1. Работа с файлами формата FASTA "
   ]
  },
  {
   "cell_type": "markdown",
   "metadata": {},
   "source": [
    "Реализуем функцию, считывающую файл и создающую итератор, содержащий все последовательности в файле"
   ]
  },
  {
   "cell_type": "code",
   "execution_count": 2,
   "metadata": {},
   "outputs": [],
   "source": [
    "def fasta_iter(fasta_name):\n",
    "    \"\"\"\n",
    "    Parses a FASTA file.\n",
    "    Yields tuples of header string and sequence\n",
    "    \"\"\"\n",
    "    fh = open(fasta_name)\n",
    "    # create iterator object\n",
    "    faiter = (x[1] for x in groupby(fh, lambda line: line[0] == \">\"))\n",
    "    for header in faiter:\n",
    "        # drop the \">\"\n",
    "        headerStr = header.__next__()[1:].strip()\n",
    "        # join all sequence lines to one.\n",
    "        seq = \"\".join(s.strip() for s in faiter.__next__())\n",
    "        yield (headerStr, seq)"
   ]
  },
  {
   "cell_type": "markdown",
   "metadata": {},
   "source": [
    "Примеры использования:"
   ]
  },
  {
   "cell_type": "code",
   "execution_count": 20,
   "metadata": {
    "scrolled": true
   },
   "outputs": [
    {
     "name": "stdout",
     "output_type": "stream",
     "text": [
      "AB024714.1 Arabidopsis thaliana ATC (centroradialis) gene, complete cds, strain:Columbia\n",
      "First 50 nucleotides: CATAGGTTCGAAATTGGTTTATTATAATTTTAACGCACAAATTCCTTGTT\n"
     ]
    }
   ],
   "source": [
    "arabidopsis_iter = fasta_iter('arabidopsis_atc.fasta')\n",
    "\n",
    "for i in arabidopsis_iter:\n",
    "    header, arabidopsis_atc_seq = i\n",
    " \n",
    "print(header)\n",
    "print('First 50 nucleotides:', arabidopsis_atc_seq[:50])"
   ]
  },
  {
   "cell_type": "code",
   "execution_count": 4,
   "metadata": {},
   "outputs": [
    {
     "data": {
      "text/html": [
       "<div>\n",
       "<style scoped>\n",
       "    .dataframe tbody tr th:only-of-type {\n",
       "        vertical-align: middle;\n",
       "    }\n",
       "\n",
       "    .dataframe tbody tr th {\n",
       "        vertical-align: top;\n",
       "    }\n",
       "\n",
       "    .dataframe thead th {\n",
       "        text-align: right;\n",
       "    }\n",
       "</style>\n",
       "<table border=\"1\" class=\"dataframe\">\n",
       "  <thead>\n",
       "    <tr style=\"text-align: right;\">\n",
       "      <th></th>\n",
       "      <th>Sequence header</th>\n",
       "      <th>Sequence</th>\n",
       "    </tr>\n",
       "  </thead>\n",
       "  <tbody>\n",
       "    <tr>\n",
       "      <th>0</th>\n",
       "      <td>seq0</td>\n",
       "      <td>CCCGGGCCTTGTAGCACGCCGCCCGTTGTACCATGAATTGCATGCC...</td>\n",
       "    </tr>\n",
       "    <tr>\n",
       "      <th>1</th>\n",
       "      <td>seq1</td>\n",
       "      <td>TCCGGAGGGCGCTAAGCGAATGTAGGCTGATGACTGGGTGAAGTCG...</td>\n",
       "    </tr>\n",
       "    <tr>\n",
       "      <th>2</th>\n",
       "      <td>seq2</td>\n",
       "      <td>TGTGGCTGGATCACCTCCTTTCAGGGAGACCTACCCATACTGATAA...</td>\n",
       "    </tr>\n",
       "    <tr>\n",
       "      <th>3</th>\n",
       "      <td>seq3</td>\n",
       "      <td>TTTGATAGAGCGGTATCAGAGGTCAACTAGGTCGGTCGAGTCTTTC...</td>\n",
       "    </tr>\n",
       "    <tr>\n",
       "      <th>4</th>\n",
       "      <td>seq4</td>\n",
       "      <td>TTTGTCTGTTTAAATTGCATGAACCGGTACAGGTTGCGCACTGGCA...</td>\n",
       "    </tr>\n",
       "    <tr>\n",
       "      <th>5</th>\n",
       "      <td>seq5</td>\n",
       "      <td>GCGGCCTGGGCGGCGGAAATTACTGGCGTACCGGAAGCGCAGATAG...</td>\n",
       "    </tr>\n",
       "    <tr>\n",
       "      <th>6</th>\n",
       "      <td>seq6</td>\n",
       "      <td>ATACAAACTCCCTTTAAAATGGCCGATGGCACCTGTCTATGATAGG...</td>\n",
       "    </tr>\n",
       "    <tr>\n",
       "      <th>7</th>\n",
       "      <td>seq7</td>\n",
       "      <td>ATCCCACATAACACTATTGTATCGATACCTCGGCGGCGTAATTGCA...</td>\n",
       "    </tr>\n",
       "    <tr>\n",
       "      <th>8</th>\n",
       "      <td>seq8</td>\n",
       "      <td>AAGTGATTGTGGGGGTTTAGCTCAGTTGGTAGAGCGCCTGCTTTGC...</td>\n",
       "    </tr>\n",
       "    <tr>\n",
       "      <th>9</th>\n",
       "      <td>seq9</td>\n",
       "      <td>AACAACCCAGATCGTAAACCTGCGTACCAGGTTGAACGAAGCGCTC...</td>\n",
       "    </tr>\n",
       "    <tr>\n",
       "      <th>10</th>\n",
       "      <td>seq10</td>\n",
       "      <td>GCATGAATCAACACCAAACCCGGATGATGCCACAAACTGGCTGGCG...</td>\n",
       "    </tr>\n",
       "  </tbody>\n",
       "</table>\n",
       "</div>"
      ],
      "text/plain": [
       "   Sequence header                                           Sequence\n",
       "0             seq0  CCCGGGCCTTGTAGCACGCCGCCCGTTGTACCATGAATTGCATGCC...\n",
       "1             seq1  TCCGGAGGGCGCTAAGCGAATGTAGGCTGATGACTGGGTGAAGTCG...\n",
       "2             seq2  TGTGGCTGGATCACCTCCTTTCAGGGAGACCTACCCATACTGATAA...\n",
       "3             seq3  TTTGATAGAGCGGTATCAGAGGTCAACTAGGTCGGTCGAGTCTTTC...\n",
       "4             seq4  TTTGTCTGTTTAAATTGCATGAACCGGTACAGGTTGCGCACTGGCA...\n",
       "5             seq5  GCGGCCTGGGCGGCGGAAATTACTGGCGTACCGGAAGCGCAGATAG...\n",
       "6             seq6  ATACAAACTCCCTTTAAAATGGCCGATGGCACCTGTCTATGATAGG...\n",
       "7             seq7  ATCCCACATAACACTATTGTATCGATACCTCGGCGGCGTAATTGCA...\n",
       "8             seq8  AAGTGATTGTGGGGGTTTAGCTCAGTTGGTAGAGCGCCTGCTTTGC...\n",
       "9             seq9  AACAACCCAGATCGTAAACCTGCGTACCAGGTTGAACGAAGCGCTC...\n",
       "10           seq10  GCATGAATCAACACCAAACCCGGATGATGCCACAAACTGGCTGGCG..."
      ]
     },
     "execution_count": 4,
     "metadata": {},
     "output_type": "execute_result"
    }
   ],
   "source": [
    "example_iter = fasta_iter('fasta_example.fasta')\n",
    "rows = []\n",
    "\n",
    "for i in example_iter:\n",
    "    rows.append(i)\n",
    "    \n",
    "example_df = pd.DataFrame(rows, columns=['Sequence header', 'Sequence'])               \n",
    "example_df"
   ]
  },
  {
   "cell_type": "markdown",
   "metadata": {},
   "source": [
    "### 2. Реализация алгоритма КМП."
   ]
  },
  {
   "cell_type": "code",
   "execution_count": 5,
   "metadata": {},
   "outputs": [],
   "source": [
    "def prefix(s):\n",
    "    \"\"\"\n",
    "    Computes prefix function for given string\n",
    "    Returns: array with prefix function values\n",
    "    \"\"\"\n",
    "    pi = [0 for _ in range(len(s))]\n",
    "    for i in range(1, len(s)):\n",
    "        j = pi[i-1]\n",
    "        while j > 0 and s[i] != s[j]: \n",
    "            j = pi[j-1]\n",
    "        if s[i] == s[j]:\n",
    "            j += 1\n",
    "        pi[i] = j\n",
    "    return pi\n",
    "\n",
    "def kmp(P,T):\n",
    "    \"\"\"\n",
    "    Knut-Morris-Pratt allgorithm. Searches pattern P in string T\n",
    "    Returns: array with match indexes\n",
    "    \"\"\"\n",
    "    pl, tl = len(P), len(T)\n",
    "    res = []\n",
    "    p = prefix(P + \"#\" + T)\n",
    "    count = 0\n",
    "    for i in range(tl+1):\n",
    "        if p[pl + i] == pl:\n",
    "            count += 1\n",
    "            res.append(i - pl + 1)\n",
    "    return res"
   ]
  },
  {
   "cell_type": "markdown",
   "metadata": {},
   "source": [
    "Пример использования на последовательности Arabidopsis, pattern='ATC' "
   ]
  },
  {
   "cell_type": "code",
   "execution_count": 17,
   "metadata": {},
   "outputs": [
    {
     "name": "stdout",
     "output_type": "stream",
     "text": [
      "Pattern_seq\n",
      "Pattern: ATC\n"
     ]
    }
   ],
   "source": [
    "P = 'pattern_seq.fasta'\n",
    "P_iter = fasta_iter(P)\n",
    "for i in P_iter:\n",
    "    header, P = i\n",
    "print(header)    \n",
    "print('Pattern:', P)    "
   ]
  },
  {
   "cell_type": "code",
   "execution_count": 18,
   "metadata": {},
   "outputs": [
    {
     "name": "stdout",
     "output_type": "stream",
     "text": [
      "AB024714.1 Arabidopsis thaliana ATC (centroradialis) gene, complete cds, strain:Columbia\n",
      "Template first 50 nucleotides: CATAGGTTCGAAATTGGTTTATTATAATTTTAACGCACAAATTCCTTGTT\n"
     ]
    }
   ],
   "source": [
    "T = 'arabidopsis_atc.fasta'\n",
    "T_iter=fasta_iter(T)\n",
    "for i in T_iter:\n",
    "    header, T = i\n",
    "print(header)    \n",
    "print('Template first 50 nucleotides:', T[:50])"
   ]
  },
  {
   "cell_type": "code",
   "execution_count": 8,
   "metadata": {},
   "outputs": [
    {
     "name": "stdout",
     "output_type": "stream",
     "text": [
      "Match on indexes:  82, 180, 223, 284, 504, 569, 573, 651, 700, 735, 805, 810, 929, 973, 1007, 1020, 1090, 1095, 1109, 1176, 1251, 1299, 1445, 1485, 1497, 1672, 1758, 1796, 1824, 1848, 1854, 1987, 2007, 2027, 2052, 2069, 2140, 2173, 2235, 2282, 2458, 2496, 2518, 2568, 2690, 2706, 2785, 2792, 2796, 2904, 2923, 3050\n"
     ]
    }
   ],
   "source": [
    "arr = kmp(P, T)\n",
    "\n",
    "print('Match on indexes: ', ', '.join([str(i) for i in arr]))"
   ]
  },
  {
   "cell_type": "code",
   "execution_count": 9,
   "metadata": {},
   "outputs": [
    {
     "data": {
      "text/plain": [
       "'ATC'"
      ]
     },
     "execution_count": 9,
     "metadata": {},
     "output_type": "execute_result"
    }
   ],
   "source": [
    "T[179:182]"
   ]
  },
  {
   "cell_type": "markdown",
   "metadata": {},
   "source": [
    "Реализация одной фунцией, которую можно переиспользовать:"
   ]
  },
  {
   "cell_type": "code",
   "execution_count": 15,
   "metadata": {},
   "outputs": [],
   "source": [
    "def search_fasta(pattern_fasta, template_fasta):\n",
    "    P_iter = fasta_iter(pattern_fasta)\n",
    "    for i in P_iter:\n",
    "        _, P = i\n",
    "    print('Pattern:', P)\n",
    "    T_iter=fasta_iter(template_fasta)\n",
    "    for i in T_iter:\n",
    "        _, T = i\n",
    "    print('Template first 50 nucleotides:', T[:50])\n",
    "    return kmp(P, T)"
   ]
  },
  {
   "cell_type": "code",
   "execution_count": 16,
   "metadata": {},
   "outputs": [
    {
     "name": "stdout",
     "output_type": "stream",
     "text": [
      "Pattern: ATC\n",
      "Template first 50 nucleotides: CATAGGTTCGAAATTGGTTTATTATAATTTTAACGCACAAATTCCTTGTT\n",
      "Match on indexes:  82, 180, 223, 284, 504, 569, 573, 651, 700, 735, 805, 810, 929, 973, 1007, 1020, 1090, 1095, 1109, 1176, 1251, 1299, 1445, 1485, 1497, 1672, 1758, 1796, 1824, 1848, 1854, 1987, 2007, 2027, 2052, 2069, 2140, 2173, 2235, 2282, 2458, 2496, 2518, 2568, 2690, 2706, 2785, 2792, 2796, 2904, 2923, 3050\n"
     ]
    }
   ],
   "source": [
    "result = search_fasta('pattern_seq.fasta', 'arabidopsis_atc.fasta')\n",
    "\n",
    "print('Match on indexes: ', ', '.join([str(i) for i in result]))"
   ]
  },
  {
   "cell_type": "code",
   "execution_count": 21,
   "metadata": {},
   "outputs": [
    {
     "name": "stdout",
     "output_type": "stream",
     "text": [
      "pattern_seq.fasta\n",
      "arabidopsis_atc.fasta\n",
      "Pattern: ATC\n",
      "Template first 50 nucleotides: CATAGGTTCGAAATTGGTTTATTATAATTTTAACGCACAAATTCCTTGTT\n",
      "Match on indexes:  82, 180, 223, 284, 504, 569, 573, 651, 700, 735, 805, 810, 929, 973, 1007, 1020, 1090, 1095, 1109, 1176, 1251, 1299, 1445, 1485, 1497, 1672, 1758, 1796, 1824, 1848, 1854, 1987, 2007, 2027, 2052, 2069, 2140, 2173, 2235, 2282, 2458, 2496, 2518, 2568, 2690, 2706, 2785, 2792, 2796, 2904, 2923, 3050\n"
     ]
    }
   ],
   "source": [
    "P=input()\n",
    "T=input()\n",
    "result = search_fasta(P, T)\n",
    "\n",
    "print('Match on indexes: ', ', '.join([str(i) for i in result]))"
   ]
  }
 ],
 "metadata": {
  "kernelspec": {
   "display_name": "Python 3 (ipykernel)",
   "language": "python",
   "name": "python3"
  },
  "language_info": {
   "codemirror_mode": {
    "name": "ipython",
    "version": 3
   },
   "file_extension": ".py",
   "mimetype": "text/x-python",
   "name": "python",
   "nbconvert_exporter": "python",
   "pygments_lexer": "ipython3",
   "version": "3.11.1"
  }
 },
 "nbformat": 4,
 "nbformat_minor": 4
}
